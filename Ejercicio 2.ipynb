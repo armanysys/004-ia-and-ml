{
 "cells": [
  {
   "cell_type": "markdown",
   "metadata": {},
   "source": [
    "Pasos a verificar\n",
    "\n",
    "1. Partición: Train, Validacion, Test"
   ]
  },
  {
   "cell_type": "code",
   "execution_count": 10,
   "metadata": {},
   "outputs": [],
   "source": [
    "# Importar base\n",
    "import pandas as pd"
   ]
  },
  {
   "cell_type": "code",
   "execution_count": 11,
   "metadata": {},
   "outputs": [
    {
     "data": {
      "text/html": [
       "<div>\n",
       "<style scoped>\n",
       "    .dataframe tbody tr th:only-of-type {\n",
       "        vertical-align: middle;\n",
       "    }\n",
       "\n",
       "    .dataframe tbody tr th {\n",
       "        vertical-align: top;\n",
       "    }\n",
       "\n",
       "    .dataframe thead th {\n",
       "        text-align: right;\n",
       "    }\n",
       "</style>\n",
       "<table border=\"1\" class=\"dataframe\">\n",
       "  <thead>\n",
       "    <tr style=\"text-align: right;\">\n",
       "      <th></th>\n",
       "      <th>id</th>\n",
       "      <th>gender</th>\n",
       "      <th>age</th>\n",
       "      <th>hypertension</th>\n",
       "      <th>heart_disease</th>\n",
       "      <th>ever_married</th>\n",
       "      <th>work_type</th>\n",
       "      <th>Residence_type</th>\n",
       "      <th>avg_glucose_level</th>\n",
       "      <th>bmi</th>\n",
       "      <th>smoking_status</th>\n",
       "      <th>stroke</th>\n",
       "    </tr>\n",
       "  </thead>\n",
       "  <tbody>\n",
       "    <tr>\n",
       "      <th>0</th>\n",
       "      <td>9046</td>\n",
       "      <td>Male</td>\n",
       "      <td>67.0</td>\n",
       "      <td>0</td>\n",
       "      <td>1</td>\n",
       "      <td>Yes</td>\n",
       "      <td>Private</td>\n",
       "      <td>Urban</td>\n",
       "      <td>228.69</td>\n",
       "      <td>36.6</td>\n",
       "      <td>formerly smoked</td>\n",
       "      <td>1</td>\n",
       "    </tr>\n",
       "  </tbody>\n",
       "</table>\n",
       "</div>"
      ],
      "text/plain": [
       "     id gender   age  hypertension  heart_disease ever_married work_type  \\\n",
       "0  9046   Male  67.0             0              1          Yes   Private   \n",
       "\n",
       "  Residence_type  avg_glucose_level   bmi   smoking_status  stroke  \n",
       "0          Urban             228.69  36.6  formerly smoked       1  "
      ]
     },
     "execution_count": 11,
     "metadata": {},
     "output_type": "execute_result"
    }
   ],
   "source": [
    "df = pd.read_csv('healthcare-dataset-stroke-data.csv')\n",
    "df.head(1)"
   ]
  },
  {
   "cell_type": "code",
   "execution_count": 12,
   "metadata": {},
   "outputs": [
    {
     "data": {
      "text/plain": [
       "Index(['id', 'gender', 'age', 'hypertension', 'heart_disease', 'ever_married',\n",
       "       'work_type', 'Residence_type', 'avg_glucose_level', 'bmi',\n",
       "       'smoking_status', 'stroke'],\n",
       "      dtype='object')"
      ]
     },
     "execution_count": 12,
     "metadata": {},
     "output_type": "execute_result"
    }
   ],
   "source": [
    "df.columns"
   ]
  },
  {
   "cell_type": "markdown",
   "metadata": {},
   "source": [
    "Elimina vacíos, outliers y posteriormente convierte las variables categóricas en númericas"
   ]
  },
  {
   "cell_type": "code",
   "execution_count": 13,
   "metadata": {},
   "outputs": [
    {
     "name": "stdout",
     "output_type": "stream",
     "text": [
      "<class 'pandas.core.frame.DataFrame'>\n",
      "Index: 4252 entries, 2 to 5109\n",
      "Data columns (total 11 columns):\n",
      " #   Column             Non-Null Count  Dtype  \n",
      "---  ------             --------------  -----  \n",
      " 0   gender             4252 non-null   object \n",
      " 1   age                4252 non-null   float64\n",
      " 2   hypertension       4252 non-null   int64  \n",
      " 3   heart_disease      4252 non-null   int64  \n",
      " 4   ever_married       4252 non-null   object \n",
      " 5   work_type          4252 non-null   object \n",
      " 6   Residence_type     4252 non-null   object \n",
      " 7   avg_glucose_level  4252 non-null   float64\n",
      " 8   bmi                4252 non-null   float64\n",
      " 9   smoking_status     4252 non-null   object \n",
      " 10  stroke             4252 non-null   int64  \n",
      "dtypes: float64(3), int64(3), object(5)\n",
      "memory usage: 398.6+ KB\n",
      "None\n",
      "               age  hypertension  heart_disease  avg_glucose_level  \\\n",
      "count  4252.000000   4252.000000    4252.000000        4252.000000   \n",
      "mean     40.598655      0.068674       0.036453          91.513173   \n",
      "std      22.460205      0.252928       0.187438          22.713855   \n",
      "min       0.080000      0.000000       0.000000          55.120000   \n",
      "25%      22.000000      0.000000       0.000000          75.060000   \n",
      "50%      41.000000      0.000000       0.000000          88.055000   \n",
      "75%      58.000000      0.000000       0.000000         104.055000   \n",
      "max      82.000000      1.000000       1.000000         168.150000   \n",
      "\n",
      "               bmi       stroke  \n",
      "count  4252.000000  4252.000000  \n",
      "mean     27.777046     0.031985  \n",
      "std       6.676779     0.175981  \n",
      "min      10.300000     0.000000  \n",
      "25%      23.000000     0.000000  \n",
      "50%      27.400000     0.000000  \n",
      "75%      32.100000     0.000000  \n",
      "max      46.300000     1.000000  \n"
     ]
    }
   ],
   "source": [
    "import pandas as pd\n",
    "import numpy as np\n",
    "\n",
    "# Supongamos que tu dataframe se llama df\n",
    "# Eliminar la columna 'id'\n",
    "df = df.drop(columns=['id'])\n",
    "\n",
    "# Eliminar filas con valores nulos\n",
    "df = df.dropna()\n",
    "\n",
    "# Quitar outliers usando el método del rango intercuartílico (IQR)\n",
    "def remove_outliers(df, column):\n",
    "    Q1 = df[column].quantile(0.25)  # Primer cuartil\n",
    "    Q3 = df[column].quantile(0.75)  # Tercer cuartil\n",
    "    IQR = Q3 - Q1  # Rango intercuartílico\n",
    "    lower_bound = Q1 - 1.5 * IQR\n",
    "    upper_bound = Q3 + 1.5 * IQR\n",
    "    return df[(df[column] >= lower_bound) & (df[column] <= upper_bound)]\n",
    "\n",
    "# Aplicar el método de outliers a columnas numéricas relevantes\n",
    "numeric_columns = ['age', 'avg_glucose_level', 'bmi']\n",
    "for column in numeric_columns:\n",
    "    df = remove_outliers(df, column)\n",
    "\n",
    "# Verificar el resultado\n",
    "print(df.info())\n",
    "print(df.describe())\n"
   ]
  },
  {
   "cell_type": "markdown",
   "metadata": {},
   "source": [
    "1. Partición en Train, Validacion, Test"
   ]
  },
  {
   "cell_type": "code",
   "execution_count": 14,
   "metadata": {},
   "outputs": [
    {
     "name": "stdout",
     "output_type": "stream",
     "text": [
      "Tamaño del conjunto de entrenamiento: 1424\n",
      "Tamaño del conjunto de validación: 1424\n",
      "Tamaño del conjunto de prueba: 1404\n"
     ]
    }
   ],
   "source": [
    "from sklearn.model_selection import train_test_split\n",
    "\n",
    "# Dividir el dataframe en dos partes: train+validation (66%) y test (33%)\n",
    "train_val, test = train_test_split(df, test_size=0.33, random_state=42)\n",
    "\n",
    "# Dividir train+validation en train (33%) y validation (33%)\n",
    "train, validation = train_test_split(train_val, test_size=0.5, random_state=42)\n",
    "\n",
    "# Verificar tamaños de los conjuntos\n",
    "print(f\"Tamaño del conjunto de entrenamiento: {len(train)}\")\n",
    "print(f\"Tamaño del conjunto de validación: {len(validation)}\")\n",
    "print(f\"Tamaño del conjunto de prueba: {len(test)}\")\n"
   ]
  },
  {
   "cell_type": "markdown",
   "metadata": {},
   "source": [
    "2. Partición de las clase de las clases de salida (Y)"
   ]
  },
  {
   "cell_type": "code",
   "execution_count": 15,
   "metadata": {},
   "outputs": [
    {
     "name": "stdout",
     "output_type": "stream",
     "text": [
      "Conteo de la variable 'stroke':\n",
      "stroke\n",
      "0    1384\n",
      "1      40\n",
      "Name: count, dtype: int64\n"
     ]
    },
    {
     "name": "stderr",
     "output_type": "stream",
     "text": [
      "C:\\Users\\L03129163\\AppData\\Local\\Temp\\ipykernel_21704\\2904898540.py:11: FutureWarning: \n",
      "\n",
      "Passing `palette` without assigning `hue` is deprecated and will be removed in v0.14.0. Assign the `x` variable to `hue` and set `legend=False` for the same effect.\n",
      "\n",
      "  sns.barplot(x=stroke_counts.index, y=stroke_counts.values, palette=\"viridis\")\n"
     ]
    },
    {
     "data": {
      "image/png": "[encoded data removed]",
      "text/plain": [
       "<Figure size 800x500 with 1 Axes>"
      ]
     },
     "metadata": {},
     "output_type": "display_data"
    }
   ],
   "source": [
    "import matplotlib.pyplot as plt\n",
    "import seaborn as sns\n",
    "\n",
    "# Conteo de valores de la variable dependiente 'stroke'\n",
    "stroke_counts = train['stroke'].value_counts()\n",
    "print(\"Conteo de la variable 'stroke':\")\n",
    "print(stroke_counts)\n",
    "\n",
    "# Gráfica de barras para la variable 'stroke'\n",
    "plt.figure(figsize=(8, 5))\n",
    "sns.barplot(x=stroke_counts.index, y=stroke_counts.values, palette=\"viridis\")\n",
    "plt.title(\"Distribución de la variable dependiente 'stroke'\", fontsize=14)\n",
    "plt.xlabel(\"Stroke (0 = No, 1 = Sí)\", fontsize=12)\n",
    "plt.ylabel(\"Frecuencia\", fontsize=12)\n",
    "plt.xticks(ticks=[0, 1], labels=['No', 'Sí'], fontsize=10)\n",
    "plt.show()"
   ]
  },
  {
   "cell_type": "markdown",
   "metadata": {},
   "source": [
    "3. Preprocesamiento y entrenamiento del modelo cuidando el filtrado de información (data leakage)"
   ]
  },
  {
   "cell_type": "code",
   "execution_count": 16,
   "metadata": {},
   "outputs": [
    {
     "data": {
      "text/html": [
       "<div>\n",
       "<style scoped>\n",
       "    .dataframe tbody tr th:only-of-type {\n",
       "        vertical-align: middle;\n",
       "    }\n",
       "\n",
       "    .dataframe tbody tr th {\n",
       "        vertical-align: top;\n",
       "    }\n",
       "\n",
       "    .dataframe thead th {\n",
       "        text-align: right;\n",
       "    }\n",
       "</style>\n",
       "<table border=\"1\" class=\"dataframe\">\n",
       "  <thead>\n",
       "    <tr style=\"text-align: right;\">\n",
       "      <th></th>\n",
       "      <th>gender</th>\n",
       "      <th>age</th>\n",
       "      <th>hypertension</th>\n",
       "      <th>heart_disease</th>\n",
       "      <th>ever_married</th>\n",
       "      <th>work_type</th>\n",
       "      <th>Residence_type</th>\n",
       "      <th>avg_glucose_level</th>\n",
       "      <th>bmi</th>\n",
       "      <th>smoking_status</th>\n",
       "      <th>stroke</th>\n",
       "    </tr>\n",
       "  </thead>\n",
       "  <tbody>\n",
       "    <tr>\n",
       "      <th>2</th>\n",
       "      <td>Male</td>\n",
       "      <td>80.0</td>\n",
       "      <td>0</td>\n",
       "      <td>1</td>\n",
       "      <td>Yes</td>\n",
       "      <td>Private</td>\n",
       "      <td>Rural</td>\n",
       "      <td>105.92</td>\n",
       "      <td>32.5</td>\n",
       "      <td>never smoked</td>\n",
       "      <td>1</td>\n",
       "    </tr>\n",
       "    <tr>\n",
       "      <th>6</th>\n",
       "      <td>Male</td>\n",
       "      <td>74.0</td>\n",
       "      <td>1</td>\n",
       "      <td>1</td>\n",
       "      <td>Yes</td>\n",
       "      <td>Private</td>\n",
       "      <td>Rural</td>\n",
       "      <td>70.09</td>\n",
       "      <td>27.4</td>\n",
       "      <td>never smoked</td>\n",
       "      <td>1</td>\n",
       "    </tr>\n",
       "  </tbody>\n",
       "</table>\n",
       "</div>"
      ],
      "text/plain": [
       "  gender   age  hypertension  heart_disease ever_married work_type  \\\n",
       "2   Male  80.0             0              1          Yes   Private   \n",
       "6   Male  74.0             1              1          Yes   Private   \n",
       "\n",
       "  Residence_type  avg_glucose_level   bmi smoking_status  stroke  \n",
       "2          Rural             105.92  32.5   never smoked       1  \n",
       "6          Rural              70.09  27.4   never smoked       1  "
      ]
     },
     "execution_count": 16,
     "metadata": {},
     "output_type": "execute_result"
    }
   ],
   "source": [
    "df.head(2)"
   ]
  },
  {
   "cell_type": "code",
   "execution_count": 17,
   "metadata": {},
   "outputs": [
    {
     "name": "stdout",
     "output_type": "stream",
     "text": [
      "      gender   age  hypertension  heart_disease  ever_married  work_type  \\\n",
      "3565       0  40.0             0              0             1          2   \n",
      "2917       0  18.0             0              0             0          1   \n",
      "4743       1  62.0             0              0             1          0   \n",
      "2375       0  30.0             0              0             1          2   \n",
      "4825       0  14.0             0              0             0          4   \n",
      "\n",
      "      Residence_type  avg_glucose_level   bmi  smoking_status  stroke  \n",
      "3565               1              65.77  31.2               2       0  \n",
      "2917               1              82.36  22.7               0       0  \n",
      "4743               0              66.20  30.0               0       0  \n",
      "2375               1              74.43  44.8               2       0  \n",
      "4825               1              71.80  18.8               0       0  \n"
     ]
    }
   ],
   "source": [
    "from sklearn.preprocessing import LabelEncoder\n",
    "\n",
    "# Identificar las columnas categóricas\n",
    "categorical_columns = ['gender', 'ever_married', 'work_type', 'Residence_type', 'smoking_status']\n",
    "\n",
    "# Convertir variables categóricas a numéricas con LabelEncoder\n",
    "label_encoders = {}\n",
    "for col in categorical_columns:\n",
    "    le = LabelEncoder()\n",
    "    train[col] = le.fit_transform(train[col])\n",
    "    label_encoders[col] = le  # Guardar el encoder para transformaciones futuras\n",
    "\n",
    "# Verificar las primeras filas del dataset procesado\n",
    "print(train.head())"
   ]
  },
  {
   "cell_type": "code",
   "execution_count": 18,
   "metadata": {},
   "outputs": [
    {
     "data": {
      "text/html": [
       "<div>\n",
       "<style scoped>\n",
       "    .dataframe tbody tr th:only-of-type {\n",
       "        vertical-align: middle;\n",
       "    }\n",
       "\n",
       "    .dataframe tbody tr th {\n",
       "        vertical-align: top;\n",
       "    }\n",
       "\n",
       "    .dataframe thead th {\n",
       "        text-align: right;\n",
       "    }\n",
       "</style>\n",
       "<table border=\"1\" class=\"dataframe\">\n",
       "  <thead>\n",
       "    <tr style=\"text-align: right;\">\n",
       "      <th></th>\n",
       "      <th>gender</th>\n",
       "      <th>age</th>\n",
       "      <th>hypertension</th>\n",
       "      <th>heart_disease</th>\n",
       "      <th>ever_married</th>\n",
       "      <th>work_type</th>\n",
       "      <th>Residence_type</th>\n",
       "      <th>avg_glucose_level</th>\n",
       "      <th>bmi</th>\n",
       "      <th>smoking_status</th>\n",
       "      <th>stroke</th>\n",
       "    </tr>\n",
       "  </thead>\n",
       "  <tbody>\n",
       "    <tr>\n",
       "      <th>3565</th>\n",
       "      <td>0</td>\n",
       "      <td>40.0</td>\n",
       "      <td>0</td>\n",
       "      <td>0</td>\n",
       "      <td>1</td>\n",
       "      <td>2</td>\n",
       "      <td>1</td>\n",
       "      <td>65.77</td>\n",
       "      <td>31.2</td>\n",
       "      <td>2</td>\n",
       "      <td>0</td>\n",
       "    </tr>\n",
       "    <tr>\n",
       "      <th>2917</th>\n",
       "      <td>0</td>\n",
       "      <td>18.0</td>\n",
       "      <td>0</td>\n",
       "      <td>0</td>\n",
       "      <td>0</td>\n",
       "      <td>1</td>\n",
       "      <td>1</td>\n",
       "      <td>82.36</td>\n",
       "      <td>22.7</td>\n",
       "      <td>0</td>\n",
       "      <td>0</td>\n",
       "    </tr>\n",
       "    <tr>\n",
       "      <th>4743</th>\n",
       "      <td>1</td>\n",
       "      <td>62.0</td>\n",
       "      <td>0</td>\n",
       "      <td>0</td>\n",
       "      <td>1</td>\n",
       "      <td>0</td>\n",
       "      <td>0</td>\n",
       "      <td>66.20</td>\n",
       "      <td>30.0</td>\n",
       "      <td>0</td>\n",
       "      <td>0</td>\n",
       "    </tr>\n",
       "    <tr>\n",
       "      <th>2375</th>\n",
       "      <td>0</td>\n",
       "      <td>30.0</td>\n",
       "      <td>0</td>\n",
       "      <td>0</td>\n",
       "      <td>1</td>\n",
       "      <td>2</td>\n",
       "      <td>1</td>\n",
       "      <td>74.43</td>\n",
       "      <td>44.8</td>\n",
       "      <td>2</td>\n",
       "      <td>0</td>\n",
       "    </tr>\n",
       "    <tr>\n",
       "      <th>4825</th>\n",
       "      <td>0</td>\n",
       "      <td>14.0</td>\n",
       "      <td>0</td>\n",
       "      <td>0</td>\n",
       "      <td>0</td>\n",
       "      <td>4</td>\n",
       "      <td>1</td>\n",
       "      <td>71.80</td>\n",
       "      <td>18.8</td>\n",
       "      <td>0</td>\n",
       "      <td>0</td>\n",
       "    </tr>\n",
       "  </tbody>\n",
       "</table>\n",
       "</div>"
      ],
      "text/plain": [
       "      gender   age  hypertension  heart_disease  ever_married  work_type  \\\n",
       "3565       0  40.0             0              0             1          2   \n",
       "2917       0  18.0             0              0             0          1   \n",
       "4743       1  62.0             0              0             1          0   \n",
       "2375       0  30.0             0              0             1          2   \n",
       "4825       0  14.0             0              0             0          4   \n",
       "\n",
       "      Residence_type  avg_glucose_level   bmi  smoking_status  stroke  \n",
       "3565               1              65.77  31.2               2       0  \n",
       "2917               1              82.36  22.7               0       0  \n",
       "4743               0              66.20  30.0               0       0  \n",
       "2375               1              74.43  44.8               2       0  \n",
       "4825               1              71.80  18.8               0       0  "
      ]
     },
     "execution_count": 18,
     "metadata": {},
     "output_type": "execute_result"
    }
   ],
   "source": [
    "# Verificar el resultado\n",
    "train.head()"
   ]
  },
  {
   "cell_type": "code",
   "execution_count": 19,
   "metadata": {},
   "outputs": [
    {
     "name": "stdout",
     "output_type": "stream",
     "text": [
      "Accuracy en el conjunto de entrenamiento: 0.9719\n"
     ]
    }
   ],
   "source": [
    "from sklearn.linear_model import LogisticRegression\n",
    "from sklearn.preprocessing import StandardScaler\n",
    "from sklearn.pipeline import Pipeline\n",
    "\n",
    "# Separar características (X) y objetivo (y)\n",
    "X_train = train.drop(columns=['stroke'])\n",
    "y_train = train['stroke']\n",
    "\n",
    "# Crear un pipeline con escalado de características y modelo de regresión logística\n",
    "pipeline = Pipeline([\n",
    "    ('scaler', StandardScaler()),\n",
    "    ('logreg', LogisticRegression(random_state=42))\n",
    "])\n",
    "\n",
    "# Entrenar el modelo\n",
    "pipeline.fit(X_train, y_train)\n",
    "\n",
    "# Verificar el score del modelo en el conjunto de entrenamiento\n",
    "train_score = pipeline.score(X_train, y_train)\n",
    "print(f\"Accuracy en el conjunto de entrenamiento: {train_score:.4f}\")"
   ]
  },
  {
   "cell_type": "markdown",
   "metadata": {},
   "source": [
    "4. Ajustar métricas para datos no balanceados"
   ]
  },
  {
   "cell_type": "code",
   "execution_count": 20,
   "metadata": {},
   "outputs": [
    {
     "name": "stdout",
     "output_type": "stream",
     "text": [
      "stroke\n",
      "0    1384\n",
      "1    1384\n",
      "Name: count, dtype: int64\n"
     ]
    }
   ],
   "source": [
    "from sklearn.utils import resample\n",
    "\n",
    "# Separar las clases mayoritaria y minoritaria\n",
    "train_majority = train[train.stroke == 0]\n",
    "train_minority = train[train.stroke == 1]\n",
    "\n",
    "# Sobremuestrear la clase minoritaria\n",
    "train_minority_upsampled = resample(train_minority, \n",
    "                                    replace=True,     # Sobremuestrear con reemplazo\n",
    "                                    n_samples=len(train_majority),    # Igualar el número de muestras de la clase mayoritaria\n",
    "                                    random_state=42)  # Fijar la semilla para reproducibilidad\n",
    "\n",
    "# Combinar las clases mayoritaria y minoritaria sobremuestreada\n",
    "train_balanced = pd.concat([train_majority, train_minority_upsampled])\n",
    "\n",
    "# Verificar el balance de clases\n",
    "print(train_balanced.stroke.value_counts())"
   ]
  },
  {
   "cell_type": "code",
   "execution_count": 21,
   "metadata": {},
   "outputs": [
    {
     "name": "stdout",
     "output_type": "stream",
     "text": [
      "Accuracy en el conjunto de entrenamiento balanceado: 0.7883\n"
     ]
    }
   ],
   "source": [
    "# Separar características (X) y objetivo (y) en el conjunto balanceado\n",
    "X_train_balanced = train_balanced.drop(columns=['stroke'])\n",
    "y_train_balanced = train_balanced['stroke']\n",
    "\n",
    "# Crear un pipeline con escalado de características y modelo de regresión logística\n",
    "pipeline_balanced = Pipeline([\n",
    "    ('scaler', StandardScaler()),\n",
    "    ('logreg', LogisticRegression(random_state=42))\n",
    "])\n",
    "\n",
    "# Entrenar el modelo con el conjunto balanceado\n",
    "pipeline_balanced.fit(X_train_balanced, y_train_balanced)\n",
    "\n",
    "# Verificar el score del modelo en el conjunto de entrenamiento balanceado\n",
    "train_balanced_score = pipeline_balanced.score(X_train_balanced, y_train_balanced)\n",
    "print(f\"Accuracy en el conjunto de entrenamiento balanceado: {train_balanced_score:.4f}\")"
   ]
  },
  {
   "cell_type": "markdown",
   "metadata": {},
   "source": [
    "5. ¿Cuál error es el más importante (el que quiero que sea más pequeño): FN o FP?"
   ]
  },
  {
   "cell_type": "code",
   "execution_count": 22,
   "metadata": {},
   "outputs": [
    {
     "data": {
      "image/png": "[encoded data removed]",
      "text/plain": [
       "<Figure size 800x500 with 1 Axes>"
      ]
     },
     "metadata": {},
     "output_type": "display_data"
    },
    {
     "name": "stdout",
     "output_type": "stream",
     "text": [
      "Matriz de Confusión:\n",
      "[[1008  376]\n",
      " [ 210 1174]]\n",
      "Reporte de Clasificación:\n",
      "              precision    recall  f1-score   support\n",
      "\n",
      "           0       0.83      0.73      0.77      1384\n",
      "           1       0.76      0.85      0.80      1384\n",
      "\n",
      "    accuracy                           0.79      2768\n",
      "   macro avg       0.79      0.79      0.79      2768\n",
      "weighted avg       0.79      0.79      0.79      2768\n",
      "\n"
     ]
    }
   ],
   "source": [
    "from sklearn.metrics import roc_curve, roc_auc_score, confusion_matrix, classification_report\n",
    "\n",
    "# Predecir probabilidades para el conjunto de entrenamiento balanceado\n",
    "y_train_balanced_prob = pipeline_balanced.predict_proba(X_train_balanced)[:, 1]\n",
    "\n",
    "# Calcular la curva ROC\n",
    "fpr, tpr, thresholds = roc_curve(y_train_balanced, y_train_balanced_prob)\n",
    "roc_auc = roc_auc_score(y_train_balanced, y_train_balanced_prob)\n",
    "\n",
    "# Graficar la curva ROC\n",
    "plt.figure(figsize=(8, 5))\n",
    "plt.plot(fpr, tpr, color='darkorange', lw=2, label=f'ROC curve (area = {roc_auc:.2f})')\n",
    "plt.plot([0, 1], [0, 1], color='navy', lw=2, linestyle='--')\n",
    "plt.xlim([0.0, 1.0])\n",
    "plt.ylim([0.0, 1.05])\n",
    "plt.xlabel('False Positive Rate')\n",
    "plt.ylabel('True Positive Rate')\n",
    "plt.title('Receiver Operating Characteristic (ROC) Curve')\n",
    "plt.legend(loc=\"lower right\")\n",
    "plt.show()\n",
    "\n",
    "# Predecir etiquetas para el conjunto de entrenamiento balanceado\n",
    "y_train_balanced_pred = pipeline_balanced.predict(X_train_balanced)\n",
    "\n",
    "# Calcular la matriz de confusión\n",
    "conf_matrix = confusion_matrix(y_train_balanced, y_train_balanced_pred)\n",
    "print(\"Matriz de Confusión:\")\n",
    "print(conf_matrix)\n",
    "\n",
    "# Calcular el reporte de clasificación\n",
    "class_report = classification_report(y_train_balanced, y_train_balanced_pred)\n",
    "print(\"Reporte de Clasificación:\")\n",
    "print(class_report)"
   ]
  }
 ],
 "metadata": {
  "kernelspec": {
   "display_name": "Python 3",
   "language": "python",
   "name": "python3"
  },
  "language_info": {
   "codemirror_mode": {
    "name": "ipython",
    "version": 3
   },
   "file_extension": ".py",
   "mimetype": "text/x-python",
   "name": "python",
   "nbconvert_exporter": "python",
   "pygments_lexer": "ipython3",
   "version": "3.12.0"
  }
 },
 "nbformat": 4,
 "nbformat_minor": 2
}
